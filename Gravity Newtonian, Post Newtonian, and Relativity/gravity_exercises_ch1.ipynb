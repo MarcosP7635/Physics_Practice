{
 "cells": [
  {
   "cell_type": "markdown",
   "metadata": {},
   "source": [
    "I'm having trouble understanding why Equation 1.13 on page 8\n",
    "\\begin{align}\n",
    "\\nabla^2 \\frac{1}{\\textbf{x}-\\textbf{x'}}= 4\\pi\\delta(\\textbf{x}-\\textbf{x'}) \n",
    "\\end{align}"
   ]
  },
  {
   "cell_type": "code",
   "execution_count": null,
   "metadata": {},
   "outputs": [],
   "source": []
  }
 ],
 "metadata": {
  "language_info": {
   "name": "python"
  }
 },
 "nbformat": 4,
 "nbformat_minor": 2
}
