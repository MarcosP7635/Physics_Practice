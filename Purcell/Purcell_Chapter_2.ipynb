{
  "cells": [
    {
      "cell_type": "markdown",
      "metadata": {
        "colab_type": "text",
        "id": "view-in-github"
      },
      "source": [
        "<a href=\"https://colab.research.google.com/github/MarcosP7635/Physics_Practice/blob/main/Purcell/Purcell_Chapter_1_.ipynb\" target=\"_parent\"><img src=\"https://colab.research.google.com/assets/colab-badge.svg\" alt=\"Open In Colab\"/></a>"
      ]
    },
    {
      "cell_type": "code",
      "execution_count": null,
      "metadata": {
        "colab": {
          "base_uri": "https://localhost:8080/"
        },
        "id": "ee-Y9RKUM1zw",
        "outputId": "a9aa4824-e5bb-4fdd-ad91-a912950668aa"
      },
      "outputs": [
        {
          "name": "stdout",
          "output_type": "stream",
          "text": [
            "Looking in indexes: https://pypi.org/simple, https://us-python.pkg.dev/colab-wheels/public/simple/\n",
            "Requirement already satisfied: SymPy in /usr/local/lib/python3.7/dist-packages (1.7.1)\n",
            "Requirement already satisfied: mpmath>=0.19 in /usr/local/lib/python3.7/dist-packages (from SymPy) (1.2.1)\n"
          ]
        }
      ],
      "source": [
        "!pip install SymPy\n",
        "import sympy\n",
        "from sympy.abc import *"
      ]
    },
    {
      "cell_type": "code",
      "execution_count": null,
      "metadata": {
        "colab": {
          "base_uri": "https://localhost:8080/",
          "height": 17
        },
        "id": "cIq6u8KlGsGx",
        "outputId": "b46b914a-7bcd-43be-f8d8-ef5c36c78deb"
      },
      "outputs": [
        {
          "data": {
            "application/javascript": "MathJax.Hub.Config({\n    TeX: { equationNumbers: { autoNumber: \"AMS\" } }\n});",
            "text/plain": [
              "<IPython.core.display.Javascript object>"
            ]
          },
          "metadata": {},
          "output_type": "display_data"
        }
      ],
      "source": [
        "%%javascript\n",
        "MathJax.Hub.Config({\n",
        "    TeX: { equationNumbers: { autoNumber: \"AMS\" } }\n",
        "});"
      ]
    },
    {
      "cell_type": "markdown",
      "metadata": {
        "id": "-9Wj63HehJQM"
      },
      "source": [
        "#Chapter 2"
      ]
    },
    {
      "cell_type": "markdown",
      "metadata": {},
      "source": [
        "Consider the electric field from a cylinder with uniform volume charge density $\\rho$ with radius $a$. For a point equidistan from the ends of the cylinder and a distance $r$ from the center of the cylinder, the divergence of the electric field is\n",
        "\\begin{equation}\n",
        "\\begin{split}\n",
        "\\nabla\\cdot E = \\frac{a^2\\rho}{2\\epsilon_0}(\\frac{2}{x^2+y^2}-2\\frac{x^2+y^2}{(x^2+y^2)^2}) = 0 \\\\\n",
        "\\end{split}\n",
        "\\end{equation}\n",
        "which is consistent with Gauss's law that for any point where there is a volume charge density of $\\rho$\n",
        "\\begin{equation}\n",
        "\\begin{split}\n",
        "\\nabla\\cdot E = \\frac{\\rho}{\\epsilon_0} \\\\\n",
        "\\end{split}\n",
        "\\end{equation}\n",
        "\n",
        "\n",
        "\n"
      ]
    },
    {
      "cell_type": "markdown",
      "metadata": {},
      "source": [
        "Since the Laplacian is the divergence of the gradient we have in cartesian coordinates\n",
        "\\begin{equation}\n",
        "\\begin{split}\n",
        "\\nabla^2 = \\frac{\\partial^2}{\\partial x^2} + \\frac{\\partial^2}{\\partial y^2} + \\frac{\\partial^2}{\\partial z^2}\\\\\n",
        "\\end{split}\n",
        "\\end{equation}\n",
        "where $\\phi$ is the voltage, we have Poisson's equation as a consequence of Gauss's law\n",
        "\\begin{equation}\n",
        "\\begin{split}\n",
        "\\nabla^2\\phi = -\\frac{\\rho}{\\epsilon_0}\\\\\n",
        "\\end{split}\n",
        "\\end{equation}\n",
        "Interestingly, Poisson's equation is mathematically equivalent to the following equation for the electric field\n",
        "\\begin{equation}\n",
        "\\begin{split}\n",
        "E(x,y,z) = \\frac{1}{4\\pi\\epsilon_0}\\int\\frac{\\rho(x',y',z')\\hat{r}}{r^2}dx'dy'dz'\\\\\n",
        "\\end{split}\n",
        "\\end{equation}\n"
      ]
    },
    {
      "cell_type": "markdown",
      "metadata": {
        "id": "aSjhe-qMhM3W"
      },
      "source": [
        "##2.1"
      ]
    }
  ],
  "metadata": {
    "colab": {
      "authorship_tag": "ABX9TyMRaPExHuvHZpcRb13JjCac",
      "collapsed_sections": [
        "mavPdC5KMjpp"
      ],
      "include_colab_link": true,
      "name": "Purcell Chapter 1-.ipynb",
      "provenance": []
    },
    "kernelspec": {
      "display_name": "Python 3.9.10 64-bit (system)",
      "language": "python",
      "name": "python3"
    },
    "language_info": {
      "name": "python",
      "version": "3.9.10"
    },
    "vscode": {
      "interpreter": {
        "hash": "274785dbb282d05f4e0ae2ca70ac66f1fa0484127cd60ef9f4ac2dd997977034"
      }
    }
  },
  "nbformat": 4,
  "nbformat_minor": 0
}
