{
  "cells": [
    {
      "cell_type": "markdown",
      "metadata": {
        "colab_type": "text",
        "id": "view-in-github"
      },
      "source": [
        "<a href=\"https://colab.research.google.com/github/MarcosP7635/Physics_Practice/blob/main/Purcell/Purcell_Chapter_1_.ipynb\" target=\"_parent\"><img src=\"https://colab.research.google.com/assets/colab-badge.svg\" alt=\"Open In Colab\"/></a>"
      ]
    },
    {
      "cell_type": "code",
      "execution_count": null,
      "metadata": {
        "colab": {
          "base_uri": "https://localhost:8080/"
        },
        "id": "ee-Y9RKUM1zw",
        "outputId": "a9aa4824-e5bb-4fdd-ad91-a912950668aa"
      },
      "outputs": [
        {
          "name": "stdout",
          "output_type": "stream",
          "text": [
            "Looking in indexes: https://pypi.org/simple, https://us-python.pkg.dev/colab-wheels/public/simple/\n",
            "Requirement already satisfied: SymPy in /usr/local/lib/python3.7/dist-packages (1.7.1)\n",
            "Requirement already satisfied: mpmath>=0.19 in /usr/local/lib/python3.7/dist-packages (from SymPy) (1.2.1)\n"
          ]
        }
      ],
      "source": [
        "!pip install SymPy\n",
        "import sympy\n",
        "from sympy.abc import *"
      ]
    },
    {
      "cell_type": "code",
      "execution_count": null,
      "metadata": {
        "colab": {
          "base_uri": "https://localhost:8080/",
          "height": 17
        },
        "id": "cIq6u8KlGsGx",
        "outputId": "b46b914a-7bcd-43be-f8d8-ef5c36c78deb"
      },
      "outputs": [
        {
          "data": {
            "application/javascript": "MathJax.Hub.Config({\n    TeX: { equationNumbers: { autoNumber: \"AMS\" } }\n});",
            "text/plain": [
              "<IPython.core.display.Javascript object>"
            ]
          },
          "metadata": {},
          "output_type": "display_data"
        }
      ],
      "source": [
        "%%javascript\n",
        "MathJax.Hub.Config({\n",
        "    TeX: { equationNumbers: { autoNumber: \"AMS\" } }\n",
        "});"
      ]
    },
    {
      "cell_type": "markdown",
      "metadata": {
        "id": "zcV8zk8VNe1f"
      },
      "source": [
        "#Chapter 1\n"
      ]
    },
    {
      "cell_type": "markdown",
      "metadata": {
        "id": "L5EqCoKGk7A6"
      },
      "source": [
        "##1.1\n",
        "\\begin{equation}\n",
        "\\begin{split}\n",
        "\\frac{F_g}{F_c} = \\frac{Gm_p^2}{kq_p^2}\n",
        "\\end{split}\n",
        "\\end{equation}"
      ]
    },
    {
      "cell_type": "code",
      "execution_count": null,
      "metadata": {
        "colab": {
          "base_uri": "https://localhost:8080/"
        },
        "id": "xKYDdg2cjfAW",
        "outputId": "28873225-f0ba-4376-a115-ff45cf418c27"
      },
      "outputs": [
        {
          "name": "stdout",
          "output_type": "stream",
          "text": [
            "part a: ratio of gravitational force\n",
            "to coulombic is  8.08454806060859e-37\n",
            "part b:  230.09280000000004  newtons\n",
            "and  51.727170540892956 pounds\n"
          ]
        }
      ],
      "source": [
        "#1.1\n",
        "m_n = 1.67 * (10**-27)\n",
        "G = 6.67 * (10**-11)\n",
        "k = 8.988 * (10**9)\n",
        "q_p = 1.6 * (10**-19)\n",
        "print(\"part a: ratio of \" + \n",
        "\"gravitational force\\nto coulombic is \",\n",
        "G * (m_n**2) / (k * (q_p**2)))\n",
        "r = 10**-15\n",
        "f = k * (q_p**2) / (r**2)\n",
        "print(\"part b: \", f ,\n",
        "\" newtons\\nand \", f/4.4482, \"pounds\")"
      ]
    },
    {
      "cell_type": "markdown",
      "metadata": {
        "id": "mavPdC5KMjpp"
      },
      "source": [
        "##1.2"
      ]
    },
    {
      "cell_type": "markdown",
      "metadata": {
        "id": "jmn_-zyKmv6g"
      },
      "source": [
        "\n",
        "Fixing the negative ion at the origin and the fourth ion at $(x,y,z)$, we have\n",
        "\\begin{equation}\n",
        "\\begin{split}\n",
        "P_1 = (x_1, y_1, 0)\\\\\n",
        "P_2 = (-x_1, y_1, 0)\\\\\n",
        "F_1 = \\frac{kqq_1}{(x-x_1)^2 + (y-y_1)^2 + z^2}\\\\\n",
        "F_2 = \\frac{kqq_2}{(x+x_1)^2 + (y-y_1)^2 + z^2}\\\\\n",
        "F_3 = \\frac{kqq_3}{x^2 + y^2 + z^2}\\\\\n",
        "F_T = \\frac{kqq_1}{(x-x_1)^2 + (y-y_1)^2 + z^2} + \\frac{kqq_2}{(x+x_1)^2 + (y-y_1)^2 + z^2} +  \\frac{kqq_3}{x^2 + y^2 + z^2}\\\\\n",
        "0 = \\frac{kqq_1}{(x-x_1)^2 + (y-y_1)^2 + z^2} + \\frac{kqq_2}{(x+x_1)^2 + (y-y_1)^2 + z^2} +  \\frac{kqq_3}{x^2 + y^2 + z^2}\\end{split}\n",
        "\\end{equation}\n",
        "\\begin{equation}\n",
        "0 = \\frac{q_1}{(x-x_1)^2 + (y-y_1)^2 + z^2} + \\frac{q_2}{(x+x_1)^2 + (y-y_1)^2 + z^2} +  \\frac{q_3}{x^2 + y^2 + z^2}\\tag{FT1.2}\n",
        "\\end{equation}\n",
        "Since we are confining the fourth charge $q$ at $(x,y,z)$ to the triangle's axis of symmetry, we need to solve for the centroid of the triangle. The centroid is the intersection of the perpendicular bisector of the left or right side and the y axis. \n",
        "\\begin{equation}\n",
        "\\begin{split} \n",
        "m = -\\frac{x_1}{y_1}\\\\\n",
        "y_c - .5y_1 =  -(x_c -.5x_1)\\frac{x_1}{y_1}\\\\\n",
        "y_1y_c - .5y_1^2 = .5x_1^2-x_cx_1\\\\\n",
        "y_c = (.5x_1^2-x_cx_1 + .5y_1^2)/y_1\\\\\n",
        "\\end{split} \n",
        "\\end{equation}\n",
        "Since the centroid is on the y axis\n",
        "\\begin{equation}\n",
        "\\begin{split}\n",
        "y_c = \\frac{.5x_1^2- .5y_1^2}{y_1}\\\\\n",
        "\\end{split}\n",
        "\\end{equation}\n",
        "So now we only need to find $z$, using our equation FT1.2 and substituting $y_c$ for $y$ and $0$ for $x$ we have\n",
        "\\begin{equation}\n",
        "\\begin{split}\n",
        "0 = \\frac{q_1}{x_1^2 + (\\frac{.5x_1^2- .5y_1^2}{y_1}-y_1)^2 + z^2} + \\frac{q_2}{x_1^2 + (\\frac{.5x_1^2- .5y_1^2}{y_1}-y_1)^2 + z^2} +  \\frac{q_3}{\\frac{.5x_1^2- .5y_1^2}{y_1} + z^2}\\\\\n",
        "\\frac{q_1+q_2}{x_1^2 + (\\frac{.5x_1^2- .5y_1^2}{y_1}-y_1)^2 + z^2} = -\\frac{q_3}{\\frac{.5x_1^2- .5y_1^2}{y_1} + z^2}\\\\\n",
        "\\frac{q_1+q_2}{q_3} = -\\frac{(x_1^2 + (\\frac{.5x_1^2- .5y_1^2}{y_1}-y_1)^2 + z^2)}{\\frac{.5x_1^2- .5y_1^2}{y_1} + z^2}\\\\\n",
        "1+\\frac{q_1+q_2}{q_3} = -\\frac{x_1^2}{\\frac{.5x_1^2- .5y_1^2}{y_1} + z^2}\\\\\n",
        "\\frac{.5x_1^2- .5y_1^2}{y_1} + z^2 = -\\frac{x_1^2q_3}{q_3+q_1+q_2}\\\\\n",
        "z = \\pm\\sqrt{\\frac{-.5x_1^2+ .5y_1^2}{y_1}-\\frac{x_1^2q_3}{q_3+q_1+q_2}}\n",
        "\\end{split}\n",
        "\\end{equation}"
      ]
    },
    {
      "cell_type": "markdown",
      "metadata": {
        "id": "dGT67GvNL0yf"
      },
      "source": [
        "Since $x_1$ and $y_1$ are both legs of a right triangle with the angle opposite to $y_1$ being 60 degrees,\n",
        "\\begin{equation}\n",
        "\\begin{split}\n",
        "\\frac{y_1}{x_1} = \\sqrt{3}\\\\\n",
        "z = \\pm\\sqrt{x_1^2(\\frac{-.5}{y_1}+\\frac{.5y_1^2}{y_1x_1^2}-\\frac{q_3}{q_3+q_1+q_2})}\\\\\n",
        "z = \\pm\\sqrt{\\frac{y_1^2}{3}(\\frac{-.5}{y_1}+\\frac{.5(3)}{y_1}-\\frac{q_3}{q_3+q_1+q_2})}\\\\\n",
        "z = \\pm \\frac{y_1}{\\sqrt{3}}\\sqrt{\\frac{1}{y_1}-\\frac{q_3}{q_3+q_1+q_2}}\\\\\n",
        "\\end{split}\n",
        "\\end{equation}\n",
        "where $y_1$ is the height of the equilateral triangle."
      ]
    },
    {
      "cell_type": "markdown",
      "metadata": {
        "id": "_9llUzopM6oC"
      },
      "source": [
        "##1.3\n"
      ]
    },
    {
      "cell_type": "markdown",
      "metadata": {
        "id": "ForljG0z2kvB"
      },
      "source": [
        "###1.3b"
      ]
    },
    {
      "cell_type": "markdown",
      "metadata": {
        "id": "Fc46rmspUHLB"
      },
      "source": [
        "\n",
        "\\begin{equation}\n",
        "\\begin{split}\n",
        "x = au\\cos v \\\\\n",
        "y = au\\sin v \\\\\n",
        "z = u \\\\ \n",
        "\\sqrt{x^2+y^2} = z\\tan\\theta\\\\\n",
        "au = u\\tan\\theta \\\\\n",
        "a = \\tan\\theta \\\\ \n",
        "R^{-2} = (u^2(1+a^2))^{-1} = (u^2(1+\\tan^2\\theta))^{-1} \\\\\n",
        "R^{-2} = \\frac{cos^2\\theta}{u^2}\n",
        "\\end{split}\n",
        "\\end{equation}"
      ]
    },
    {
      "cell_type": "markdown",
      "metadata": {
        "id": "0N7TY_ZmW3VB"
      },
      "source": [
        "\\begin{equation}\n",
        "\\begin{split}\n",
        "\\frac{\\partial (x,y)}{\\partial (u ,v)} = \\frac{\\partial au\\cos v}{\\partial u}\n",
        "\\frac{\\partial au\\sin v}{\\partial v} - \\frac{\\partial au\\cos v}{\\partial v}\n",
        "\\frac{\\partial au\\sin v}{\\partial u} = au\\cos^2(v) + au\\sin^2 v = au\\\\\n",
        "\\frac{\\partial (x,z)}{\\partial (u ,v)} = \\frac{\\partial ua\\cos v}{\\partial u}\n",
        "\\frac{\\partial u}{\\partial v} - \\frac{\\partial au\\cos v}{\\partial v}\n",
        "\\frac{\\partial u}{\\partial u} = 0(a\\cos v) + au\\sin v = ua \\sin v\\\\\n",
        "\\frac{\\partial (y,z)}{\\partial (u ,v)} = \\frac{\\partial au\\sin v}{\\partial u}\n",
        "\\frac{\\partial u}{\\partial v} - \\frac{\\partial au\\sin v}{\\partial v}\n",
        "\\frac{\\partial u}{\\partial u} = 0(a\\sin v) - au\\cos v = -ua\\cos v\n",
        "\\end{split}\n",
        "\\end{equation}"
      ]
    },
    {
      "cell_type": "markdown",
      "metadata": {
        "id": "mE0DDjh4tf82"
      },
      "source": [
        "It is sufficient to integrate the square of the distance to the point charge over the surface of the cone. \n",
        "\n",
        "By symmetry, we only need to account for the vertical component of the electric field. Where $\\theta_T$ would be the angle at the top of the cone where it not cut off, we have for the electric field from two opposite facing, equidistant, and very small sections of the cone with combined area $dA$\n",
        "\\begin{equation}\n",
        "\\begin{split}\n",
        "dE = dE_y = \\frac{\\sigma dA}{R^2}\\cos\\theta_T\\\\\n",
        "\\end{split}\n",
        "\\end{equation}\n",
        "where $R$ is the distance from each section of the cone to the point charge. \n",
        "Since for all points on the surface of the cone, $\\sigma$ and $\\theta_T$ are constant, we have\n",
        "\\begin{equation}\n",
        "\\begin{split}\n",
        "E = \\frac{\\sigma}{4\\pi\\epsilon_0}\\int\\frac{1}{R^2}dA \\\\\n",
        "\\end{split}\n",
        "\\end{equation}"
      ]
    },
    {
      "cell_type": "markdown",
      "metadata": {
        "id": "kGrjjEUdcHFG"
      },
      "source": [
        "By definition, we have for the integral of a scalar function over a surface\n",
        "\\begin{equation}\n",
        "\\begin{split}\n",
        "\\int\\int f(x(u,v),y(u,v),z(u,v))\\sqrt{\\left (\\frac{\\partial (x,y)}{\\partial (u ,v)}\\right )^2 + \\left (\\frac{\\partial (y,z)}{\\partial (u ,v)}\\right )^2\n",
        "+ \\left (\\frac{\\partial (x,z)}{\\partial (u ,v)}\\right )^2}dudv\\\\\n",
        "\\end{split}\n",
        "\\end{equation}\n",
        "Since \n",
        "\\begin{equation}\n",
        "\\begin{split}\n",
        "\\frac{\\partial (x,y)}{\\partial (u ,v)} = \\frac{\\partial x}{\\partial u}\n",
        "\\frac{\\partial y}{\\partial v} - \\frac{\\partial x}{\\partial v}\n",
        "\\frac{\\partial y}{\\partial u}\\\\\n",
        "\\end{split}\n",
        "\\end{equation}\n",
        "then we have by substitution\n",
        "\\begin{equation}\n",
        "\\begin{split}\n",
        "\\int\\int f(x(u,v),y(u,v),z(u,v))a\\sqrt{u^2 + u^2\\sin^2 v + u^2\\cos^2v}dudv \\\\\n",
        "\\int\\int f(x(u,v),y(u,v),z(u,v))au\\sqrt{2}dudv\\\\\n",
        "\\cos\\theta\\sin\\theta\\sqrt2\\int\\int \\frac{1}{u}dudv\\\\\n",
        "E = \\frac{\\cos\\theta\\sin\\theta\\sqrt2\\sigma}{4\\pi\\epsilon_0}\\int\\int \\frac{1}{u}dudv\\\\\n",
        "\\end{split}\n",
        "\\end{equation}"
      ]
    },
    {
      "cell_type": "markdown",
      "metadata": {
        "id": "vV473EYJ32_l"
      },
      "source": [
        "###1.3a"
      ]
    },
    {
      "cell_type": "markdown",
      "metadata": {
        "id": "-DCrwLVf36aH"
      },
      "source": [
        "Similarly we have for a cone that isn't cut off, and evaluating with [wolfram alpha](https://www.wolframalpha.com/input?i=%5Cint_%7B0%7D%5E%7B%5Cpi%7D%5Csqrt%7B1%2B%5Csin%5E2x+%2B+%5Csin%5E2%28x%29cos%5E2%28x%29%7Ddx)\n",
        "\\begin{equation}\n",
        "\\begin{split}\n",
        "E \\propto \\frac{\\sigma\\cos\\theta}{4\\pi\\epsilon_0}\\int_{0}^{\\pi}\\int_{0}^{L\\cos\\theta} \\frac{1}{u}dudv\\\\\n",
        "\\end{split}\n",
        "\\end{equation}\n",
        "Which does not integrate, and thus the force is infinite."
      ]
    },
    {
      "cell_type": "code",
      "execution_count": null,
      "metadata": {
        "id": "-edyjhgw3m-s"
      },
      "outputs": [],
      "source": []
    },
    {
      "cell_type": "markdown",
      "metadata": {
        "id": "dp2A0ENe1QKV"
      },
      "source": [
        "##1.5\n",
        "Stable by symmetry and the interior being equipotential."
      ]
    },
    {
      "cell_type": "markdown",
      "metadata": {
        "id": "y3eVYQOi1eRx"
      },
      "source": [
        "##1.6"
      ]
    },
    {
      "cell_type": "markdown",
      "metadata": {
        "id": "c743bV9B1hlu"
      },
      "source": [
        "###1.6a\n",
        "\n",
        "\\begin{equation}\n",
        "Q = -\\frac{q}{4}\n",
        "\\end{equation}"
      ]
    },
    {
      "cell_type": "markdown",
      "metadata": {
        "id": "7jMsJgBW2Bg4"
      },
      "source": [
        "###1.6b"
      ]
    },
    {
      "cell_type": "markdown",
      "metadata": {
        "id": "Tjvh2sIJ4A6Q"
      },
      "source": [
        "The force from two of the 3 identical charges on the third identical charge in the bottom left is $F$\n",
        "\\begin{equation}\n",
        "F_x = -k\\frac{qq + .5qq}{d^2} = -k\\frac{3qq}{2d^2}\\\\\n",
        "F_y = -k\\frac{qq\\sqrt{3}}{2d^2}\\\\\n",
        "\\end{equation}\n",
        "Now for the force on the bottom left charge from the charge $Q$\n",
        "\\begin{equation}\n",
        "d_1^2 = \\frac{3}{16}d^2\\\\\n",
        "F_{y1} = -k\\frac{3qQ}{32d^2}\\\\\n",
        "F_{x1} = -k\\frac{3qQ\\sqrt{3}}{32d^2}\\\\\n",
        "\\end{equation}\n",
        "Now in order for the system to be in equilibrium we have \n",
        "\\begin{equation}\n",
        "-q\\sqrt{3} = \\frac{3Q}{32}\\\\\n",
        "Q = -\\frac{32q}{\\sqrt{3}}\n",
        "\\end{equation}"
      ]
    },
    {
      "cell_type": "markdown",
      "metadata": {
        "id": "UrS3tT_j9sNp"
      },
      "source": [
        "###1.6c,d\n",
        "Since the net force on each charge is 0, and is this also the case when they are infinitely far apart, the system has the same potential energy as it would if the charges were separated at infinity. Thus the potential energy of the system is 0."
      ]
    },
    {
      "cell_type": "markdown",
      "metadata": {
        "id": "8dkAiHrD-JDf"
      },
      "source": [
        "##1.7"
      ]
    },
    {
      "cell_type": "markdown",
      "metadata": {
        "id": "-9Wj63HehJQM"
      },
      "source": [
        "#Chapter 2"
      ]
    },
    {
      "cell_type": "markdown",
      "metadata": {
        "id": "aSjhe-qMhM3W"
      },
      "source": [
        "##2.1"
      ]
    }
  ],
  "metadata": {
    "colab": {
      "authorship_tag": "ABX9TyMRaPExHuvHZpcRb13JjCac",
      "collapsed_sections": [
        "mavPdC5KMjpp"
      ],
      "include_colab_link": true,
      "name": "Purcell Chapter 1-.ipynb",
      "provenance": []
    },
    "kernelspec": {
      "display_name": "Python 3.9.10 64-bit",
      "language": "python",
      "name": "python3"
    },
    "language_info": {
      "name": "python",
      "version": "3.9.10"
    },
    "vscode": {
      "interpreter": {
        "hash": "274785dbb282d05f4e0ae2ca70ac66f1fa0484127cd60ef9f4ac2dd997977034"
      }
    }
  },
  "nbformat": 4,
  "nbformat_minor": 0
}
