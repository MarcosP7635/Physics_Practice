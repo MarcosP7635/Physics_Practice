{
 "cells": [
  {
   "cell_type": "code",
   "execution_count": 37,
   "metadata": {},
   "outputs": [],
   "source": [
    "import astropy\n",
    "from astropy import constants\n",
    "from astropy import units\n",
    "import numpy as np\n",
    "import sympy\n",
    "from sympy.abc import *"
   ]
  },
  {
   "cell_type": "code",
   "execution_count": 59,
   "metadata": {},
   "outputs": [
    {
     "data": {
      "text/plain": [
       "-6"
      ]
     },
     "execution_count": 59,
     "metadata": {},
     "output_type": "execute_result"
    }
   ],
   "source": [
    "int(np.round(-5.8999999))"
   ]
  },
  {
   "cell_type": "markdown",
   "metadata": {},
   "source": [
    "#Problem 1\n",
    "\\begin{equation}\n",
    "\\begin{split}\n",
    "\\text{For a parallel plate capacitor} \\quad C = \\frac{\\epsilon_0 A}{d}\\\\\n",
    "\\text{and by the definition of capacitance} \\quad C = \\frac{Q}{V} \\\\\n",
    "\\text{so we can substitute} \\quad Q = V\\frac{\\epsilon_0 A}{d}\n",
    "\\end{split}\n",
    "\\end{equation}\n",
    "Evaluating the right hand side with Python, we have\n",
    "\n",
    "\n",
    "\n",
    "\n",
    "\n"
   ]
  },
  {
   "cell_type": "code",
   "execution_count": 40,
   "metadata": {},
   "outputs": [
    {
     "name": "stdout",
     "output_type": "stream",
     "text": [
      "Thus the number of excess electrons is \n"
     ]
    },
    {
     "data": {
      "text/latex": [
       "$1.6579048 \\times 10^{10} \\; \\mathrm{}$"
      ],
      "text/plain": [
       "<Quantity 1.65790481e+10>"
      ]
     },
     "execution_count": 40,
     "metadata": {},
     "output_type": "execute_result"
    }
   ],
   "source": [
    "epsilon_0 = constants.eps0\n",
    "A = .2 * .1 * (units.meter**2)\n",
    "d = .02 * units.meter\n",
    "V = 300 * units.volt\n",
    "Q = V * epsilon_0 * A / d\n",
    "n = Q / constants.e.si \n",
    "print(\"Thus the number of excess electrons is \")\n",
    "n.to('')"
   ]
  },
  {
   "cell_type": "markdown",
   "metadata": {},
   "source": [
    "Since the electric field is the gradient of the potential, we have\n",
    "\\begin{equation}\n",
    "\\begin{split}\n",
    "E = \\frac{V}{d}\\\\\n",
    "\\end{split}\n",
    "\\end{equation}\n",
    "\n",
    "\n",
    "\n",
    "\n",
    "\n"
   ]
  },
  {
   "cell_type": "code",
   "execution_count": 41,
   "metadata": {},
   "outputs": [
    {
     "data": {
      "text/latex": [
       "$15000 \\; \\mathrm{\\frac{V}{m}}$"
      ],
      "text/plain": [
       "<Quantity 15000. V / m>"
      ]
     },
     "execution_count": 41,
     "metadata": {},
     "output_type": "execute_result"
    }
   ],
   "source": [
    "V / d"
   ]
  },
  {
   "cell_type": "markdown",
   "metadata": {},
   "source": [
    "Now for a frame of reference moving at $.6c$ east relative to the capacitor"
   ]
  },
  {
   "cell_type": "code",
   "execution_count": 42,
   "metadata": {},
   "outputs": [
    {
     "name": "stdout",
     "output_type": "stream",
     "text": [
      "Using the lorentz transform, the east-west dimension of the capacitor is now\n"
     ]
    },
    {
     "data": {
      "text/latex": [
       "$0.16 \\; \\mathrm{m}$"
      ],
      "text/plain": [
       "<Quantity 0.16 m>"
      ]
     },
     "execution_count": 42,
     "metadata": {},
     "output_type": "execute_result"
    }
   ],
   "source": [
    "def gamma(v):\n",
    "    return np.sqrt(1-(v**2 / constants.c**2))\n",
    "print(\"Using the lorentz transform, the east-west dimension of the capacitor\"\n",
    "+ \" is now\")\n",
    ".2 * gamma(.6 * constants.c) * units.meter"
   ]
  },
  {
   "cell_type": "markdown",
   "metadata": {},
   "source": [
    "The rest of the dimensions are the same. "
   ]
  },
  {
   "cell_type": "code",
   "execution_count": 43,
   "metadata": {},
   "outputs": [
    {
     "name": "stdout",
     "output_type": "stream",
     "text": [
      "Now for the area, we have\n"
     ]
    },
    {
     "data": {
      "text/latex": [
       "$0.016 \\; \\mathrm{m^{2}}$"
      ],
      "text/plain": [
       "<Quantity 0.016 m2>"
      ]
     },
     "execution_count": 43,
     "metadata": {},
     "output_type": "execute_result"
    }
   ],
   "source": [
    "A = (.2 * gamma(.6 * constants.c)) * .1 * (units.meter**2)\n",
    "print(\"Now for the area, we have\")\n",
    "A"
   ]
  },
  {
   "cell_type": "markdown",
   "metadata": {},
   "source": [
    "Repeating the same calculations taking the different area resulting from the Lorentz contraction into account"
   ]
  },
  {
   "cell_type": "code",
   "execution_count": 44,
   "metadata": {},
   "outputs": [
    {
     "name": "stdout",
     "output_type": "stream",
     "text": [
      "the new number of excess electrons is \n"
     ]
    },
    {
     "data": {
      "text/latex": [
       "$1.3263238 \\times 10^{10} \\; \\mathrm{}$"
      ],
      "text/plain": [
       "<Quantity 1.32632385e+10>"
      ]
     },
     "execution_count": 44,
     "metadata": {},
     "output_type": "execute_result"
    }
   ],
   "source": [
    "d = .02 * units.meter\n",
    "V = 300 * units.volt\n",
    "Q = V * epsilon_0 * A / d\n",
    "n = Q / constants.e.si \n",
    "print(\"the new number of excess electrons is \")\n",
    "n.to('')"
   ]
  },
  {
   "cell_type": "code",
   "execution_count": 45,
   "metadata": {},
   "outputs": [
    {
     "name": "stdout",
     "output_type": "stream",
     "text": [
      "the new electric field strength is\n"
     ]
    },
    {
     "data": {
      "text/latex": [
       "$15000 \\; \\mathrm{\\frac{V}{m}}$"
      ],
      "text/plain": [
       "<Quantity 15000. V / m>"
      ]
     },
     "execution_count": 45,
     "metadata": {},
     "output_type": "execute_result"
    }
   ],
   "source": [
    "print(\"the new electric field strength is\")\n",
    "V / d"
   ]
  },
  {
   "cell_type": "markdown",
   "metadata": {},
   "source": [
    "If instead, we consider a frame of reference moving upwards at $.6c$, we have"
   ]
  },
  {
   "cell_type": "code",
   "execution_count": 46,
   "metadata": {},
   "outputs": [
    {
     "name": "stdout",
     "output_type": "stream",
     "text": [
      " a new vertical separation distance of \n"
     ]
    },
    {
     "data": {
      "text/latex": [
       "$0.016 \\; \\mathrm{m}$"
      ],
      "text/plain": [
       "<Quantity 0.016 m>"
      ]
     },
     "execution_count": 46,
     "metadata": {},
     "output_type": "execute_result"
    }
   ],
   "source": [
    "d = .02 * gamma(.6 * constants.c) * units.meter\n",
    "print(\" a new vertical separation distance of \")\n",
    "d"
   ]
  },
  {
   "cell_type": "markdown",
   "metadata": {},
   "source": [
    "Since the relative motion is normal to the area of the plates, the areas are the same as they were when there was no relative motion."
   ]
  },
  {
   "cell_type": "code",
   "execution_count": 47,
   "metadata": {},
   "outputs": [
    {
     "name": "stdout",
     "output_type": "stream",
     "text": [
      "the new number of excess electrons is \n"
     ]
    },
    {
     "data": {
      "text/latex": [
       "$1.3263238 \\times 10^{10} \\; \\mathrm{}$"
      ],
      "text/plain": [
       "<Quantity 1.32632385e+10>"
      ]
     },
     "execution_count": 47,
     "metadata": {},
     "output_type": "execute_result"
    }
   ],
   "source": [
    "V = 300 * units.volt\n",
    "A = .2 * .1 * (units.meter**2)\n",
    "Q = V * epsilon_0 * A / d\n",
    "print(\"the new number of excess electrons is \")\n",
    "n.to('')"
   ]
  },
  {
   "cell_type": "code",
   "execution_count": 48,
   "metadata": {},
   "outputs": [
    {
     "name": "stdout",
     "output_type": "stream",
     "text": [
      "the new electric field strength is\n"
     ]
    },
    {
     "data": {
      "text/latex": [
       "$18750 \\; \\mathrm{\\frac{V}{m}}$"
      ],
      "text/plain": [
       "<Quantity 18750. V / m>"
      ]
     },
     "execution_count": 48,
     "metadata": {},
     "output_type": "execute_result"
    }
   ],
   "source": [
    "print(\"the new electric field strength is\")\n",
    "V / d"
   ]
  },
  {
   "cell_type": "markdown",
   "metadata": {},
   "source": [
    "#Problem 2"
   ]
  },
  {
   "cell_type": "code",
   "execution_count": 49,
   "metadata": {},
   "outputs": [
    {
     "data": {
      "text/latex": [
       "$800 \\; \\mathrm{}$"
      ],
      "text/plain": [
       "<Quantity 800.>"
      ]
     },
     "execution_count": 49,
     "metadata": {},
     "output_type": "execute_result"
    }
   ],
   "source": [
    "r = .0001 / 2 * units.meter\n",
    "l = .04 * units.meter\n",
    "n = 5 * 10**8\n",
    "l / r"
   ]
  },
  {
   "cell_type": "markdown",
   "metadata": {},
   "source": [
    "Since the radius of the filament is $\\frac{1}{800}$ of the length, we can approximate the filament as a line of charge. Thus, we have an electric field of \n",
    "\\begin{equation}\n",
    "E = \\frac{\\lambda}{2\\pi\\epsilon_0 r} \n",
    "\\end{equation}\n",
    "where $r$ is the distance between the line that crosses the center of the filament and its top and bottom and a given point. We take $\\lambda = \\pi(r_c)^2 \\rho$ where $\\rho$ is the charge density and $r_c$ is the radius of the filament. Where $Q$ is the total charge of the filament,\n",
    "\\begin{equation}\n",
    "\\begin{split}\n",
    "A = \\pi r_c^2\\\\\n",
    "\\rho = \\frac{Q}{A l}\\\\\n",
    "\\lambda = A \\rho = \\frac{Q}{l}\\\\\n",
    "\\end{split}\n",
    "\\end{equation}\n",
    "Computing this with Python, we have\n",
    "\n"
   ]
  },
  {
   "cell_type": "code",
   "execution_count": 50,
   "metadata": {},
   "outputs": [
    {
     "name": "stdout",
     "output_type": "stream",
     "text": [
      "The electric field at the surface of the filament is \n"
     ]
    },
    {
     "data": {
      "text/latex": [
       "$719982.27 \\; \\mathrm{\\frac{V}{m}}$"
      ],
      "text/plain": [
       "<Quantity 719982.27392128 V / m>"
      ]
     },
     "execution_count": 50,
     "metadata": {},
     "output_type": "execute_result"
    }
   ],
   "source": [
    "Q = n * constants.e.si \n",
    "lambda_ = Q / l\n",
    "E = (lambda_ / (2 * np.pi * constants.eps0 * r)).to(\"V/m\")\n",
    "print(\"The electric field at the surface of the filament is \")\n",
    "E"
   ]
  },
  {
   "cell_type": "markdown",
   "metadata": {},
   "source": [
    "For an exact solution that instead treats the filament like a cylinder instead of a line, the electric field from a point in the filament is \n",
    "\\begin{equation}\n",
    "\\begin{split}\n",
    "dE = \\frac{\\rho}{4\\pi\\epsilon_0 R^2}dV\\\\\n",
    "\\end{split}\n",
    "\\end{equation}\n",
    "where $R$ is the distance between that point in the interior of the filament and the a given point on the surface of the filament. In cylindrical coordinates the filament is bounded by $r\\le .00005$ and $0\\le z \\le .04$. Thus we have for the total electric field at that point on the surface of the filament, specifically $(.00005,\\theta_0,z_0)$\n",
    "\\begin{equation}\n",
    "\\begin{split}\n",
    "E = 2\\frac{\\rho}{4\\pi\\epsilon_0}\\int_0^{.04}\\int_0^{.00005}\\int_0^\\pi R^{-2}rd\\theta drdz\\\\\n",
    "R^{-2} = ((x-x_0)^2+(y-y_0)^2+(z-z_0)^2)^{-1}\\\\\n",
    "R^{-2} = ((r\\sin\\theta-.00005\\sin\\theta_0)^2+(r\\cos\\theta-.00005\\cos\\theta_0)^2+(z-z_0)^2)^{-1}\\\\\n",
    "R^{-2} = (r^2-.0001r(\\sin\\theta_0\\sin\\theta+\\cos\\theta_0\\cos\\theta)+.0000000025-+(z-z_0)^2)^{-1}\\\\\n",
    "E = \\frac{\\rho}{2\\pi\\epsilon_0}\\int_0^{.04}\\int_0^{.00005}\\int_0^\\pi \\\\(r^2-.0001r(\\sin\\theta_0\\sin\\theta+\\cos\\theta_0\\cos\\theta)+.0000000025-+(z-z_0)^2)^{-1}rd\\theta drdz\\\\\n",
    "\\end{split}\n",
    "\\end{equation}\n",
    "By symmetry, the electric field strength cannot depend on $\\theta_0$, so we can choose $\\theta_0=0$\n",
    "\\begin{equation}\n",
    "\\begin{split}\n",
    "E = \\frac{\\rho}{2\\pi\\epsilon_0}\\int_0^{.04}\\int_0^{.00005}\\int_0^\\pi\\frac{r}{r^2-.0001r\\cos\\theta+.0000000025+(z-z_0)^2}d\\theta drdz\\\\\n",
    "\\end{split}\n",
    "\\end{equation}\n",
    "\n",
    "\n",
    "\n",
    "\n"
   ]
  },
  {
   "cell_type": "markdown",
   "metadata": {},
   "source": [
    "Now we will calculate the electric for a frame in which the filament is moving at .9c parallel to its height. We have\n",
    "\\begin{equation}\n",
    "\\begin{split}\n",
    "l_{moving} = l\\gamma\\\\\n",
    "\\lambda_{moving} = \\frac{Q}{l_{moving}} = \\lambda\\frac{l}{l_{moving}} \\\\\n",
    "E_{moving} = \\frac{\\lambda_{moving}}{2\\pi \\epsilon_0 r}\\\\\n",
    "E_{moving} = E\\frac{l}{l_{moving}} = \\frac{E}{\\gamma}\n",
    "\\end{split}\n",
    "\\end{equation}\n",
    "\n",
    "\n",
    "\n"
   ]
  },
  {
   "cell_type": "code",
   "execution_count": 51,
   "metadata": {},
   "outputs": [
    {
     "name": "stdout",
     "output_type": "stream",
     "text": [
      "The electric field in this new reference frame is\n"
     ]
    },
    {
     "data": {
      "text/latex": [
       "$1651752.6 \\; \\mathrm{\\frac{V}{m}}$"
      ],
      "text/plain": [
       "<Quantity 1651752.61745447 V / m>"
      ]
     },
     "execution_count": 51,
     "metadata": {},
     "output_type": "execute_result"
    }
   ],
   "source": [
    "v = .9 * constants.c \n",
    "E_moving = E / gamma(v)\n",
    "print(\"The electric field in this new reference frame is\")\n",
    "E_moving"
   ]
  },
  {
   "cell_type": "markdown",
   "metadata": {},
   "source": [
    "#Problem 3"
   ]
  },
  {
   "cell_type": "code",
   "execution_count": null,
   "metadata": {},
   "outputs": [],
   "source": []
  }
 ],
 "metadata": {
  "kernelspec": {
   "display_name": "Python 3.9.13 ('nbinteract-env')",
   "language": "python",
   "name": "python3"
  },
  "language_info": {
   "codemirror_mode": {
    "name": "ipython",
    "version": 3
   },
   "file_extension": ".py",
   "mimetype": "text/x-python",
   "name": "python",
   "nbconvert_exporter": "python",
   "pygments_lexer": "ipython3",
   "version": "3.9.13"
  },
  "orig_nbformat": 4,
  "vscode": {
   "interpreter": {
    "hash": "14a6636c80e685d011bcbdbd1b7fe64d4d902bb5bff40bd3eb6997ec796f6b6f"
   }
  }
 },
 "nbformat": 4,
 "nbformat_minor": 2
}
