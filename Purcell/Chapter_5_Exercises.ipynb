{
 "cells": [
  {
   "cell_type": "code",
   "execution_count": 34,
   "metadata": {},
   "outputs": [],
   "source": [
    "from astropy import constants\n",
    "from astropy import units\n",
    "import numpy as np\n",
    "import sympy\n",
    "from sympy.abc import *"
   ]
  },
  {
   "cell_type": "markdown",
   "metadata": {},
   "source": [
    "#Problem 1\n",
    "\\begin{equation}\n",
    "\\begin{split}\n",
    "\\text{For a parallel plate capacitor} \\quad C = \\frac{\\epsilon_0 A}{d}\\\\\n",
    "\\text{and by the definition of capacitance} \\quad C = \\frac{Q}{V} \\\\\n",
    "\\text{so we can substitute} \\quad Q = V\\frac{\\epsilon_0 A}{d}\n",
    "\\end{split}\n",
    "\\end{equation}\n",
    "Evaluating the right hand side with Python, we have\n",
    "\n",
    "\n",
    "\n",
    "\n",
    "\n"
   ]
  },
  {
   "cell_type": "code",
   "execution_count": 29,
   "metadata": {},
   "outputs": [
    {
     "name": "stdout",
     "output_type": "stream",
     "text": [
      "Thus the number of excess electrons is \n"
     ]
    },
    {
     "data": {
      "text/latex": [
       "$1.6579048 \\times 10^{10} \\; \\mathrm{}$"
      ],
      "text/plain": [
       "<Quantity 1.65790481e+10>"
      ]
     },
     "execution_count": 29,
     "metadata": {},
     "output_type": "execute_result"
    }
   ],
   "source": [
    "epsilon_0 = constants.eps0\n",
    "A = .2 * .1 * (units.meter**2)\n",
    "d = .02 * units.meter\n",
    "V = 300 * units.volt\n",
    "Q = V * epsilon_0 * A / d\n",
    "n = Q / constants.e.si \n",
    "print(\"Thus the number of excess electrons is \")\n",
    "n.to('')"
   ]
  },
  {
   "cell_type": "markdown",
   "metadata": {},
   "source": [
    "Since the electric field is the gradient of the potential, we have\n",
    "\\begin{equation}\n",
    "\\begin{split}\n",
    "E = \\frac{V}{d}\\\\\n",
    "\\end{split}\n",
    "\\end{equation}\n",
    "\n",
    "\n",
    "\n",
    "\n",
    "\n"
   ]
  },
  {
   "cell_type": "code",
   "execution_count": 32,
   "metadata": {},
   "outputs": [
    {
     "data": {
      "text/latex": [
       "$15000 \\; \\mathrm{\\frac{V}{m}}$"
      ],
      "text/plain": [
       "<Quantity 15000. V / m>"
      ]
     },
     "execution_count": 32,
     "metadata": {},
     "output_type": "execute_result"
    }
   ],
   "source": [
    "V / d"
   ]
  },
  {
   "cell_type": "markdown",
   "metadata": {},
   "source": [
    "Now for a frame of reference moving at $.6c$ east relative to the capacitor"
   ]
  },
  {
   "cell_type": "code",
   "execution_count": 45,
   "metadata": {},
   "outputs": [
    {
     "name": "stdout",
     "output_type": "stream",
     "text": [
      "Using the lorentz transform, the east-west dimension of the capacitor is now\n"
     ]
    },
    {
     "data": {
      "text/latex": [
       "$0.16 \\; \\mathrm{m}$"
      ],
      "text/plain": [
       "<Quantity 0.16 m>"
      ]
     },
     "execution_count": 45,
     "metadata": {},
     "output_type": "execute_result"
    }
   ],
   "source": [
    "def gamma(v):\n",
    "    return np.sqrt(1-(v**2 / constants.c**2))\n",
    "print(\"Using the lorentz transform, the east-west dimension of the capacitor\"\n",
    "+ \" is now\")\n",
    ".2 * gamma(.6 * constants.c) * units.meter"
   ]
  },
  {
   "cell_type": "markdown",
   "metadata": {},
   "source": [
    "The rest of the dimensions are the same. "
   ]
  },
  {
   "cell_type": "code",
   "execution_count": 40,
   "metadata": {},
   "outputs": [
    {
     "name": "stdout",
     "output_type": "stream",
     "text": [
      "Now for the area, we have\n"
     ]
    },
    {
     "data": {
      "text/latex": [
       "$0.016 \\; \\mathrm{m^{2}}$"
      ],
      "text/plain": [
       "<Quantity 0.016 m2>"
      ]
     },
     "execution_count": 40,
     "metadata": {},
     "output_type": "execute_result"
    }
   ],
   "source": [
    "A = (.2 * gamma(.6 * constants.c)) * .1 * (units.meter**2)\n",
    "print(\"Now for the area, we have\")\n",
    "A"
   ]
  },
  {
   "cell_type": "markdown",
   "metadata": {},
   "source": [
    "Repeating the same calculations taking the different area resulting from the Lorentz contraction into account"
   ]
  },
  {
   "cell_type": "code",
   "execution_count": 42,
   "metadata": {},
   "outputs": [
    {
     "name": "stdout",
     "output_type": "stream",
     "text": [
      "the new number of excess electrons is \n"
     ]
    },
    {
     "data": {
      "text/latex": [
       "$1.3263238 \\times 10^{10} \\; \\mathrm{}$"
      ],
      "text/plain": [
       "<Quantity 1.32632385e+10>"
      ]
     },
     "execution_count": 42,
     "metadata": {},
     "output_type": "execute_result"
    }
   ],
   "source": [
    "d = .02 * units.meter\n",
    "V = 300 * units.volt\n",
    "Q = V * epsilon_0 * A / d\n",
    "n = Q / constants.e.si \n",
    "print(\"the new number of excess electrons is \")\n",
    "n.to('')"
   ]
  },
  {
   "cell_type": "code",
   "execution_count": 43,
   "metadata": {},
   "outputs": [
    {
     "name": "stdout",
     "output_type": "stream",
     "text": [
      "the new electric field strength is\n"
     ]
    },
    {
     "data": {
      "text/latex": [
       "$15000 \\; \\mathrm{\\frac{V}{m}}$"
      ],
      "text/plain": [
       "<Quantity 15000. V / m>"
      ]
     },
     "execution_count": 43,
     "metadata": {},
     "output_type": "execute_result"
    }
   ],
   "source": [
    "print(\"the new electric field strength is\")\n",
    "V / d"
   ]
  },
  {
   "cell_type": "markdown",
   "metadata": {},
   "source": [
    "If instead, we consider a frame of reference moving upwards at $.6c$, we have"
   ]
  },
  {
   "cell_type": "code",
   "execution_count": 46,
   "metadata": {},
   "outputs": [
    {
     "name": "stdout",
     "output_type": "stream",
     "text": [
      " a new vertical separation distance of \n"
     ]
    },
    {
     "data": {
      "text/latex": [
       "$0.016 \\; \\mathrm{m}$"
      ],
      "text/plain": [
       "<Quantity 0.016 m>"
      ]
     },
     "execution_count": 46,
     "metadata": {},
     "output_type": "execute_result"
    }
   ],
   "source": [
    "d = .02 * gamma(.6 * constants.c) * units.meter\n",
    "print(\" a new vertical separation distance of \")\n",
    "d"
   ]
  },
  {
   "cell_type": "markdown",
   "metadata": {},
   "source": [
    "Since the relative motion is normal to the area of the plates, the areas are the same as they were when there was no relative motion."
   ]
  },
  {
   "cell_type": "code",
   "execution_count": 47,
   "metadata": {},
   "outputs": [
    {
     "name": "stdout",
     "output_type": "stream",
     "text": [
      "the new number of excess electrons is \n"
     ]
    },
    {
     "data": {
      "text/latex": [
       "$1.3263238 \\times 10^{10} \\; \\mathrm{}$"
      ],
      "text/plain": [
       "<Quantity 1.32632385e+10>"
      ]
     },
     "execution_count": 47,
     "metadata": {},
     "output_type": "execute_result"
    }
   ],
   "source": [
    "V = 300 * units.volt\n",
    "A = .2 * .1 * (units.meter**2)\n",
    "Q = V * epsilon_0 * A / d\n",
    "print(\"the new number of excess electrons is \")\n",
    "n.to('')"
   ]
  },
  {
   "cell_type": "code",
   "execution_count": 48,
   "metadata": {},
   "outputs": [
    {
     "name": "stdout",
     "output_type": "stream",
     "text": [
      "the new electric field strength is\n"
     ]
    },
    {
     "data": {
      "text/latex": [
       "$18750 \\; \\mathrm{\\frac{V}{m}}$"
      ],
      "text/plain": [
       "<Quantity 18750. V / m>"
      ]
     },
     "execution_count": 48,
     "metadata": {},
     "output_type": "execute_result"
    }
   ],
   "source": [
    "print(\"the new electric field strength is\")\n",
    "V / d"
   ]
  },
  {
   "cell_type": "markdown",
   "metadata": {},
   "source": [
    "#Problem 2\n",
    "\n",
    "For "
   ]
  },
  {
   "cell_type": "code",
   "execution_count": 49,
   "metadata": {},
   "outputs": [],
   "source": [
    "r = .0001 / 2 * units.meter\n",
    "l = .04 * units.meter\n",
    "n = 5 * 10**8"
   ]
  },
  {
   "cell_type": "markdown",
   "metadata": {},
   "source": [
    "Since the area of the bases of the filament are negligible, we will only consider points on the surface that are normal to the length of the filament. \n",
    "\\begin{equation}\n",
    "\\begin{split}\n",
    "\\text{From Gauss's Law} \\quad \\frac{E}{A} = \\frac{\\rho}{\\epsilon_0}\\\\\n",
    "\\text{Using the aforementioned area and volume of the filament} \\quad \\frac{E}{2rl\\pi} = \\frac{\\rho}{\\epsilon_0}\\\\\n",
    "\\end{split}\n",
    "\\end{equation}\n",
    "By symmetry we only need to consider the charge that lies in the plane that intersects the center of the sphere and a given point on its surface,\n",
    "\n",
    "\n",
    "\n",
    "\n"
   ]
  },
  {
   "cell_type": "code",
   "execution_count": null,
   "metadata": {},
   "outputs": [],
   "source": []
  }
 ],
 "metadata": {
  "kernelspec": {
   "display_name": "Python 3.9.13 ('nbinteract-env')",
   "language": "python",
   "name": "python3"
  },
  "language_info": {
   "codemirror_mode": {
    "name": "ipython",
    "version": 3
   },
   "file_extension": ".py",
   "mimetype": "text/x-python",
   "name": "python",
   "nbconvert_exporter": "python",
   "pygments_lexer": "ipython3",
   "version": "3.9.13"
  },
  "orig_nbformat": 4,
  "vscode": {
   "interpreter": {
    "hash": "14a6636c80e685d011bcbdbd1b7fe64d4d902bb5bff40bd3eb6997ec796f6b6f"
   }
  }
 },
 "nbformat": 4,
 "nbformat_minor": 2
}
