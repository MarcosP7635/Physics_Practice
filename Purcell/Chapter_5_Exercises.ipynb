{
 "cells": [
  {
   "cell_type": "code",
   "execution_count": 10,
   "metadata": {},
   "outputs": [],
   "source": [
    "from astropy import constants\n",
    "from astropy import units\n",
    "import sympy\n",
    "from sympy.abc import *"
   ]
  },
  {
   "cell_type": "markdown",
   "metadata": {},
   "source": [
    "#Problem 1\n",
    "\\begin{equation}\n",
    "\\begin{split}\n",
    "\\text{For a parallel plate capacitor} \\quad C = \\frac{\\epsilon_0 A}{d}\\\\\n",
    "\\text{and by the definition of capacitance} \\quad C = \\frac{Q}{V} \\\\\n",
    "\\text{so we can substitute} \\quad Q = V\\frac{\\epsilon_0 A}{d}\n",
    "\\end{split}\n",
    "\\end{equation}\n",
    "Evaluating the right hand side with Python, we have\n",
    "\n",
    "\n",
    "\n",
    "\n",
    "\n"
   ]
  },
  {
   "cell_type": "code",
   "execution_count": 29,
   "metadata": {},
   "outputs": [
    {
     "name": "stdout",
     "output_type": "stream",
     "text": [
      "Thus the number of excess electrons is \n"
     ]
    },
    {
     "data": {
      "text/latex": [
       "$1.6579048 \\times 10^{10} \\; \\mathrm{}$"
      ],
      "text/plain": [
       "<Quantity 1.65790481e+10>"
      ]
     },
     "execution_count": 29,
     "metadata": {},
     "output_type": "execute_result"
    }
   ],
   "source": [
    "epsilon_0 = constants.eps0\n",
    "A = .2 * .1 * (units.meter**2)\n",
    "d = .02 * units.meter\n",
    "V = 300 * units.volt\n",
    "Q = V * epsilon_0 * A / d\n",
    "n = Q / constants.e.si \n",
    "print(\"Thus the number of excess electrons is \")\n",
    "n.to('')"
   ]
  },
  {
   "cell_type": "code",
   "execution_count": null,
   "metadata": {},
   "outputs": [],
   "source": []
  }
 ],
 "metadata": {
  "kernelspec": {
   "display_name": "Python 3.9.13 ('nbinteract-env')",
   "language": "python",
   "name": "python3"
  },
  "language_info": {
   "codemirror_mode": {
    "name": "ipython",
    "version": 3
   },
   "file_extension": ".py",
   "mimetype": "text/x-python",
   "name": "python",
   "nbconvert_exporter": "python",
   "pygments_lexer": "ipython3",
   "version": "3.9.13"
  },
  "orig_nbformat": 4,
  "vscode": {
   "interpreter": {
    "hash": "14a6636c80e685d011bcbdbd1b7fe64d4d902bb5bff40bd3eb6997ec796f6b6f"
   }
  }
 },
 "nbformat": 4,
 "nbformat_minor": 2
}
