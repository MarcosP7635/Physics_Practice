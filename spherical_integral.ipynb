{
 "cells": [
  {
   "cell_type": "markdown",
   "metadata": {},
   "source": [
    "Using computational algebra in Python's sympy package, we will derive the volume element in spherical coordinates via the Jacobian determinant."
   ]
  },
  {
   "cell_type": "code",
   "execution_count": 59,
   "metadata": {},
   "outputs": [],
   "source": [
    "from astropy import constants\n",
    "from astropy import units\n",
    "import numpy as np\n",
    "import sympy\n",
    "from sympy.abc import *\n",
    "from sympy import cos, sin, diff, symbols"
   ]
  },
  {
   "cell_type": "markdown",
   "metadata": {},
   "source": [
    "First we define our coordinates"
   ]
  },
  {
   "cell_type": "code",
   "execution_count": 65,
   "metadata": {},
   "outputs": [],
   "source": [
    "rho, phi, theta, dV = symbols(\"ρ\"), symbols(\"φ\"), symbols(\"θ\"), symbols(\"dV\")"
   ]
  },
  {
   "cell_type": "markdown",
   "metadata": {},
   "source": [
    "Now we define our Cartesian coordinates in terms of our spherical coordinates."
   ]
  },
  {
   "cell_type": "code",
   "execution_count": 68,
   "metadata": {},
   "outputs": [
    {
     "name": "stdout",
     "output_type": "stream",
     "text": [
      "ρ*sin(φ)*cos(θ) ρ*sin(θ)*sin(φ) ρ*cos(φ)\n"
     ]
    }
   ],
   "source": [
    "x = rho*sin(phi)*cos(theta)\n",
    "y = rho*sin(phi)*sin(theta)\n",
    "z = rho*cos(phi)\n",
    "x, y, z"
   ]
  },
  {
   "cell_type": "markdown",
   "metadata": {},
   "source": [
    "Recall that the Jacobian determinant is equal to the volume element $dV$ and thus\n",
    "\\begin{split}\n",
    "dV = \\Large\n",
    "\\begin{bmatrix}\n",
    "\\frac{\\partial x}{\\partial u} & \\frac{\\partial x}{\\partial v} & \\frac{\\partial x}{\\partial w}  \\\\ \\frac{\\partial y}{\\partial u} & \\frac{\\partial y}{\\partial v} & \\frac{\\partial y}{\\partial w}  \\\\ \\frac{\\partial z}{\\partial u} & \\frac{\\partial z}{\\partial v} & \\frac{\\partial z}{\\partial w}  \\\\ \n",
    "\\end{bmatrix} = ...\\\\\n",
    "... \\quad \\frac{\\partial x}{\\partial u}(\\frac{\\partial y}{\\partial w}\\frac{\\partial z}{\\partial v}-\\frac{\\partial y}{\\partial v}\\frac{\\partial z}{\\partial w})-\\frac{\\partial x}{\\partial v}(\\frac{\\partial y}{\\partial w}\\frac{\\partial z}{\\partial u}-\\frac{\\partial y}{\\partial u}\\frac{\\partial z}{\\partial w})+\\frac{\\partial x}{\\partial w}(\\frac{\\partial y}{\\partial v}\\frac{\\partial z}{\\partial u}- \\frac{\\partial y}{\\partial u}\\frac{\\partial \\partial z}{\\partial v})\n",
    "\\end{split}\n",
    "\n",
    "Where diff $( \\alpha,\\beta) = \\frac{\\partial \\alpha}{\\partial \\beta}$, we now define "
   ]
  },
  {
   "cell_type": "code",
   "execution_count": 62,
   "metadata": {},
   "outputs": [],
   "source": [
    "a = diff(x, phi)\n",
    "b = diff(x, rho)\n",
    "c = diff(x, theta)\n",
    "d = diff(y, phi)\n",
    "e = diff(y, rho)\n",
    "f = diff(y, theta) \n",
    "g = diff(z, phi)\n",
    "h = diff(z, rho)\n",
    "i = diff(z, theta)"
   ]
  },
  {
   "cell_type": "markdown",
   "metadata": {},
   "source": [
    "Thus we have\n",
    "\\begin{split}\n",
    "dV = \n",
    "\\begin{bmatrix} \n",
    "a & b & c \\\\ d & e & f \\\\ g & h & i\n",
    "\\end{bmatrix}\n",
    "\\end{split}\n",
    "and carrying out the partial differentiation, we have\n"
   ]
  },
  {
   "cell_type": "code",
   "execution_count": 63,
   "metadata": {},
   "outputs": [
    {
     "data": {
      "text/latex": [
       "$\\displaystyle ρ^{2} \\sin^{3}{\\left(φ \\right)} \\cos^{2}{\\left(θ \\right)} + ρ^{2} \\sin{\\left(φ \\right)} \\cos^{2}{\\left(θ \\right)} \\cos^{2}{\\left(φ \\right)} - ρ \\left(- ρ \\sin{\\left(θ \\right)} \\sin^{2}{\\left(φ \\right)} - ρ \\sin{\\left(θ \\right)} \\cos^{2}{\\left(φ \\right)}\\right) \\sin{\\left(θ \\right)} \\sin{\\left(φ \\right)}$"
      ],
      "text/plain": [
       "ρ**2*sin(φ)**3*cos(θ)**2 + ρ**2*sin(φ)*cos(θ)**2*cos(φ)**2 - ρ*(-ρ*sin(θ)*sin(φ)**2 - ρ*sin(θ)*cos(φ)**2)*sin(θ)*sin(φ)"
      ]
     },
     "execution_count": 63,
     "metadata": {},
     "output_type": "execute_result"
    }
   ],
   "source": [
    "dV = a*(f*h-e*i) - b*(f*g-d*i)+c*(e*g-d*h)\n",
    "dV"
   ]
  },
  {
   "cell_type": "markdown",
   "metadata": {},
   "source": [
    "Now simplifying gives"
   ]
  },
  {
   "cell_type": "code",
   "execution_count": 64,
   "metadata": {},
   "outputs": [
    {
     "data": {
      "text/latex": [
       "$\\displaystyle ρ^{2} \\sin{\\left(φ \\right)}$"
      ],
      "text/plain": [
       "ρ**2*sin(φ)"
      ]
     },
     "execution_count": 64,
     "metadata": {},
     "output_type": "execute_result"
    }
   ],
   "source": [
    "sympy.simplify(dV)"
   ]
  },
  {
   "cell_type": "code",
   "execution_count": null,
   "metadata": {},
   "outputs": [],
   "source": []
  }
 ],
 "metadata": {
  "kernelspec": {
   "display_name": "Python 3.9.13 ('streamlit_env')",
   "language": "python",
   "name": "python3"
  },
  "language_info": {
   "codemirror_mode": {
    "name": "ipython",
    "version": 3
   },
   "file_extension": ".py",
   "mimetype": "text/x-python",
   "name": "python",
   "nbconvert_exporter": "python",
   "pygments_lexer": "ipython3",
   "version": "3.9.13"
  },
  "orig_nbformat": 4,
  "vscode": {
   "interpreter": {
    "hash": "1f0393f8ba2932b3b5aa5970fc4159422bdca889ff002cc5e770c42154db1719"
   }
  }
 },
 "nbformat": 4,
 "nbformat_minor": 2
}
