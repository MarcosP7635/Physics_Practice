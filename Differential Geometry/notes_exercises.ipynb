{
 "cells": [
  {
   "cell_type": "markdown",
   "metadata": {},
   "source": [
    "# Redefining Vectors \n",
    "\n",
    "We associate a $n$-dimensional vector space with each point $P$ on a $n$-dimensional manifold $M$ — the elements of this vector space are the tangent space at $P$, and those elements are now also vectors at the point $P\\in M$.\n",
    "\n",
    "\n",
    "If the following are true then the curve $\\gamma_1$ is tangent to the curve $\\gamma_2$ at the point $P\\in M$.  \n",
    "\\begin{align}\n",
    "\\gamma_1(0)=\\gamma_2(0)=P\\quad\\text{and}\\quad \\frac{d}{dt}|_0 x^i(\\gamma_1(t)) = \\frac{d}{dt}|_0 x^i(\\gamma_2(t))\n",
    "\\end{align}\n",
    "\n",
    "where $x^i$ are just arbitrary local coordinates in the neighborhood of $P$. In classical mechanics, this is the same as the positions of two fictitious points in configuration space $M$ as well as their trajectories $\\gamma_1(t)$ and $\\gamma_2(t)$ being equal at $t=0$. Furthemore, those points would have same value for their generalized velocities. \n",
    "Since they have the same generalized coordinates and the same velocities, we say they are first order in time (within the interval from 0 to $\\epsilon$). Note that the choice of $t=0$ was arbitrary and didn't matter.  \n",
    "\n",
    "\n",
    "\n"
   ]
  },
  {
   "cell_type": "markdown",
   "metadata": {},
   "source": [
    "## 2.2.1\n",
    "i) Since in the definition we gave for two curves to be tangent we used arbitrary local coordinates, this does not depend on the choice of local coordinates.\n",
    "ii) A binary relation is an equivalence relation iff it is transitive, reflexive, and symmetric. This is true for the first criterion that $\\gamma_1(0)=\\gamma_2(0)=P$. Now let us see if this is true for the second criterion. It is clearly symmetric and reflective, and since if \n",
    "\\begin{align}\n",
    "\\frac{d}{dt}|_0 x^i(\\gamma_1(t)) = \\frac{d}{dt}|_0 x^i(\\gamma_2(t)) \\quad\\text{and}\\quad \\frac{d}{dt}|_0 x^i(\\gamma_2(t)) = \\frac{d}{dt}|_0 x^i(\\gamma_3(t))\\quad\\therefore\\quad \\frac{d}{dt}|_0 x^i(\\gamma_1(t)) = \\frac{d}{dt}|_3 x^i(\\gamma_2(t))\n",
    "\\end{align}\n",
    "Thus \"to be tangent in P\" is an equivalence :D \n",
    "iii) Since they have the same 0th and 1st derivatives by definition, the following is true and has the same $x^i(P), a^i \\in \\mathbb{R}$ for every equivalent curve in the neighborhood of $t=0$\n",
    "\\begin{align}\n",
    "x^i(\\gamma(t)) = x^i(P) + ta^i + o(t)\n",
    "\\end{align}\n",
    "\n",
    "Let's do this more constructively and thoroughly. Consider the Taylor expansion of one member of the equivalence class around $t=0$\n",
    "\\begin{align}\n",
    "& x^i(\\gamma(t)) = \\sum_{n=0}^\\infty\\frac{d}{dt^n}[x^i(\\gamma_1(t=0))] \\frac{(t-0)^n}{n!} = \n",
    "\\sum_{n=0}\\frac{d}{dt^n}[x^i(\\gamma_1(t=0))] \\frac{t^n}{n!} \\\\\n",
    "&  x^i(\\gamma(t)) = o(t) + \\sum_{n=0}^1\\frac{d}{dt^n}[x^i(\\gamma_1(t=0))] \\frac{t^n}{n!} \n",
    "\\end{align}\n",
    "Recall that for the entire equivalence class, $\\gamma(t=0) = P$ \n",
    "\\begin{align}\n",
    "&  x^i(\\gamma(t)) = o(t) + \\sum_{n=0}^1\\frac{d}{dt^n}[x^i(P)] \\frac{t^n}{n!} \\\\\n",
    "&  x^i(\\gamma(t)) = o(t) + x^i(P) + t\\frac{dx^i(P)}{dt} \\\\\n",
    "\\end{align}\n",
    "There is at least one line tangent to all these curves, and since it is a line, $\\frac{dx^i(P)}{dt}$ is a real-valued constant $a^i$. Based on how we defined $x^i$ then $x^i(P)$ is also a real-valued constant. \n",
    "\\begin{align}\n",
    "x^i(\\gamma(t)) = o(t) + x^i(P) + a^it\n",
    "\\end{align}\n"
   ]
  },
  {
   "cell_type": "markdown",
   "metadata": {},
   "source": [
    "# Integral Curves\n",
    "\n",
    "Consider a bunch of curves in the immediate vicinity of point $P$ up to order $\\epsilon$. We may consider a vector $V_P$ to to be the equivalence class of curves in which each representative of this class is equivalent since we are only considering up to order (I think of this as distance) $\\epsilon$.\n",
    "\n",
    "\\begin{align}\n",
    "\\dot{\\gamma} = V\\quad\\quad \\dot{\\gamma}(P) = V_P\n",
    "\\end{align}\n",
    "where $\\gamma$ is the integral curve of a vector $V$. The tangent vector of the curve $\\gamma$ at point $P$ is $\\dot{y}(P)$, which is the same as the equivalence class $[\\gamma]$ given by the curve $\\gamma$ at the point $P.$ "
   ]
  },
  {
   "cell_type": "markdown",
   "metadata": {},
   "source": [
    "# Ch 4: Lie Derivatives \n",
    "\n",
    "A vector field divides a manifold into a system of integral curves. Recall how in multivariable calculus, you can define multivariable functions parametrically. Now we also define each point $P$ in the manifold $M$, $P\\in M$, to move depending on $t$ along some integral curve that can be different for each point. This is the map\n",
    "\\begin{align}\n",
    "\\Phi_t : M\\to M\\quad\\quad P\\equiv \\gamma(t_0)\\to \\gamma(t_0+t)\n",
    "\\end{align} \n",
    "and is the local flow generated by the field $V$. Since it's a local flow and not a global flow, we only need this to hold for $t$ in the neighbourhood of $t=0$.\n"
   ]
  },
  {
   "cell_type": "markdown",
   "metadata": {},
   "source": [
    "## Problem 4.1.5\n",
    "\n",
    "We will now check that \n",
    "\\begin{align}\n",
    "\\textbf{r} \\to e^{t\\lambda}\\textbf{r}\\equiv \\Phi_t(\\textbf{r})\\quad \\lambda\\in\\mathbb{R}\n",
    "\\end{align}\n",
    "is a global flow on $\\mathbb{R}^3$ and then find the vector field $V$ which generates this flow, then draw some of its integral curves.\n",
    "\n",
    "For each point $P$, one can increment the above flow for all $t\\in\\mathbb{R}$, so this is a global flow. \n",
    "\n",
    "Recall that $V=\\dot{x}^i(0;x)\\partial_i$ so we substitute\n",
    "\\begin{align}\n",
    "& \\dot{x}^i = \\frac{\\partial }{\\partial x^i}\\frac{\\partial }{\\partial t}x^i\\quad\\therefore\\quad V=\\frac{\\partial }{\\partial x^i}\\frac{\\partial}{\\partial t}x^i(0;x)\\partial_i\\\\\n",
    "&\\text{Using the given mapping}\\quad V=\\frac{\\partial }{\\partial x^i}\\frac{\\partial }{\\partial t}e^{t\\lambda}x(0;x)\\partial_i\\\\\n",
    "&\\text{Evaluating derivatives}\\quad V=\\frac{\\partial }{\\partial x^i}\\frac{\\partial }{\\partial t}e^{t\\lambda}\\textbf{r}(0;x)\\partial_i\\\\\n",
    "&\\text{and since } \\textbf{r}\\cdot\\nabla = x\\partial_x+y\\partial_y+z\\partial_z \\text{ we have}\n",
    "\\end{align}"
   ]
  },
  {
   "cell_type": "code",
   "execution_count": null,
   "metadata": {},
   "outputs": [],
   "source": []
  },
  {
   "cell_type": "markdown",
   "metadata": {},
   "source": [
    "# Hamiltonian Mechanics"
   ]
  },
  {
   "cell_type": "markdown",
   "metadata": {},
   "source": [
    "One can intepret Hamiltonian mechanics as something called a sympletic structure on a manifold.\n",
    "\n",
    "Problem 2.3.7 details that the Hamilton equations \n",
    "\\begin{align}\n",
    "\\dot{q}^a = \\frac{\\partial H}{\\partial p_a}\\quad\\quad \\dot{p}^a = -\\frac{\\partial H}{\\partial q^a}\\quad\\quad a=1,...,n\n",
    "\\end{align}\n",
    "\n",
    "can be viewed as field equations for integral curves of the following vector field on $\\mathbb{R}^{2n}[q^a, p_a]$\n",
    "\\begin{align}\n",
    "\\zeta_H = \\frac{\\partial H}{\\partial p_a}\\frac{\\partial }{\\partial q^a} - \\frac{\\partial H}{\\partial q^a}\\frac{\\partial}{\\partial p_a}\n",
    "\\end{align}"
   ]
  },
  {
   "cell_type": "markdown",
   "metadata": {},
   "source": []
  }
 ],
 "metadata": {
  "kernelspec": {
   "display_name": "Python 3 (ipykernel)",
   "language": "python",
   "name": "python3"
  },
  "language_info": {
   "codemirror_mode": {
    "name": "ipython",
    "version": 3
   },
   "file_extension": ".py",
   "mimetype": "text/x-python",
   "name": "python",
   "nbconvert_exporter": "python",
   "pygments_lexer": "ipython3",
   "version": "3.11.2"
  }
 },
 "nbformat": 4,
 "nbformat_minor": 2
}
