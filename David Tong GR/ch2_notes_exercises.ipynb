{
 "cells": [
  {
   "cell_type": "markdown",
   "metadata": {},
   "source": [
    "# Differentiating on a manifold \n",
    "By definition, these manifolds locally look like $\\mathbb{R}$ and are smooth. Thus we have\n",
    "\\begin{align}\n",
    "\\frac{\\partial f}{\\partial x^\\mu}\\mid_p = \\frac{\\partial (f\\circ\\phi^{-1})}{\\partial x^\\mu}\\mid_{\\phi(p)}\n",
    "\\end{align}\n",
    "The set of all smooth functions is $C^\\infty(M)$. The tangent vector $X_p:C^\\infty(M)\\to\\mathbb{R}$ differentiates a function at a point $p$. $X_p$ is linear over addition, obeys the product rule, and is 0 for a constant function. The velocity of a particle is an example of a tangent vector. Recall $\\mu$ is an index, and we define\n",
    "\\begin{align}\n",
    "\\partial_\\mu|_p \\equiv \\frac{\\partial}{\\partial x^\\mu}|_p\n",
    "\\end{align}\n",
    "and that's also a tangent vector and doesn't depend on the choice of coordinates! :) "
   ]
  },
  {
   "cell_type": "markdown",
   "metadata": {},
   "source": [
    "The set of all tangent vectors is a tangent space $T_p(M)$ and has the basis vectors $\\partial_\\mu|_p$\n",
    "\n",
    "Recall that we use Einstein summation notation so if we have $F=f\\circ\\phi^{-1}:U\\to\\mathbb{R}$ and $\\phi=(x^1,x^2,...,x^n)$ then\n",
    "\\begin{align}\n",
    "F(x) = F(x^\\mu) + (x^\\mu-x^\\mu(p))F_\\mu(x(p))\n",
    "\\end{align}\n",
    "has $n$ functions $F_\\mu(x)$. "
   ]
  },
  {
   "cell_type": "markdown",
   "metadata": {},
   "source": [
    "\\begin{align}\n",
    "&\\text{We define}\\quad X^\\mu_p\\equiv X_p(x^\\mu)\\quad\\text{and have}\\quad\n",
    "X_p=X^\\mu\\partial_\\mu|_p\n",
    "\\end{align}\n",
    "The proof is about a page but the first step is above :P"
   ]
  },
  {
   "cell_type": "markdown",
   "metadata": {},
   "source": [
    "## Chain Rule Works :)\n",
    "\n",
    "Consider some other chart $\\tilde{\\phi}$ with coordinates $\\tilde{x}^\\nu$. Since $X_p$ is a vector we have\n",
    "\\begin{align}\n",
    "& X_p = X^\\mu \\frac{\\partial}{\\partial x^\\mu}|_p = \\tilde{X}^\\mu \\frac{\\partial}{\\partial \\tilde{x}^\\mu}|_p \\\\\n",
    "&\\text{Now take the tangent vector of some function $f$ and define}\\nonumber\\\\\n",
    "&\\text{Now with chain rule :) }\\quad X_p(f) = X^\\mu\\frac{\\partial}{\\partial x^\\mu}|_p =  X^\\mu\\frac{\\partial\\tilde{x}^\\nu}{\\partial \\tilde{x}^\\nu}|_{\\phi(p)}\\frac{\\partial f}{\\partial \\tilde{x}^\\nu}|_p \\\\\n",
    "&\\text{We define}\\quad\\tilde{\\partial}_\\nu\\equiv\\frac{\\partial}{\\partial\\tilde{x}^\\nu}\\quad\\therefore\\quad X_p(f) = X^\\mu\\partial_\\mu f|_p =  X^\\mu\\partial_\\mu \\tilde{x}^\\nu|_{\\phi(p)}\\tilde{\\partial}_\\nu f |_p\\\\\n",
    "&\\text{Notice this involved either changing basis}\\quad \\partial_\\mu|_p = \\partial_\\mu\\tilde{x}^\\nu|_{\\phi(p)}\\tilde{\\partial}^\\nu|_p\\\\\n",
    "&\\text{Or just transforming a contravariant vector}\\quad  \\tilde{X}^\\nu = X^\\mu\\frac{\\partial\\tilde{x}^\\nu}{\\partial x^\\mu}|_{\\phi(p)} = X^\\mu\\partial_\\mu\\tilde{x}^\\nu|_{\\phi(p)}\n",
    "\\end{align}\n",
    "The first and last lines are related :)\n",
    "\n",
    "Also note that the tangent space only cares about the manifold, not any higher dimensional space the manifold might be embedded in!"
   ]
  },
  {
   "cell_type": "markdown",
   "metadata": {},
   "source": [
    "# Fields can vary over space\n",
    "\n",
    "We define a vector field to be any mathematical object that smoothly assigns a tangent vector to every point in space.\n",
    "\\begin{align}\n",
    "&\\text{We define a vector field }X:C^\\infty(M)\\to C^\\infty(M)\\\\\n",
    "&\\text{Furthermore, for some function }f\\quad X(f(p)) = X_p(f)\\\\\n",
    "&\\text{We can also make the expansion}\\quad X=X^\\mu\\partial_\\mu = X^\\mu\\frac{\\partial}{\\partial x^\\mu}\\\\\n",
    "&\\text{Then by the chain rule \n",
    "}\\quad X^\\mu(x(t)) = \\frac{dx^\\mu(t)}{dt}\n",
    "\\end{align}\n",
    "Note that now $X^\\mu$ are smooth functions on $M$ and that additional charts maybe needed to cover the entire manifold. Note that $\\sigma_t$ is a diffeomorphism $\\sigma_t:M\\to M$ where $\\sigma_s\\circ\\sigma_t=\\sigma_{s+t}$ and in the last line $x^\\mu(t)\\equiv x^\\mu(\\sigma(t))$. These sorts of one-parameter diffemorphisms are called flows on the manifold $M.$"
   ]
  },
  {
   "cell_type": "markdown",
   "metadata": {},
   "source": [
    "Since $XY$ is a second order derivative [really a second order differential operator] we don't necessarily have $XY(fg)=fXY(g)+gXY(f)$, so we don't have the product rule [Leibinizarity]. Thus it's useful to instead consider the commutator! \n",
    "\\begin{align}\n",
    "[X,Y]f=XYf - YXf \n",
    "\\end{align}\n",
    "It's also called the Lie bracket :O\n",
    "\n",
    "Now we invoke contravariant vector transformations to write $[X,Y]$ in a given coordinate basis\n",
    "\\begin{align}\n",
    "&[X,Y] = [X^\\mu\\partial_\\mu Y^\\nu\\partial_\\nu]-[Y^\\nu\\partial_\\nu X^\\mu\\partial_\\mu] \\\\\n",
    "&\\text{Note that we can rewrite the indices}\\quad [X,Y] = [X^\\mu\\partial_\\mu Y^\\nu\\partial_\\nu]-[Y^\\mu\\partial_\\mu X^\\nu\\partial_\\nu] \\\\\n",
    "&\\text{Linearity over addition}\\quad [X,Y] = [X^\\mu\\partial_\\mu Y^\\nu - Y^\\mu\\partial_\\mu X^\\nu]\\partial_\\nu\n",
    "\\end{align}\n",
    "If we differentiate a flow, we get a vector field. If we integrate a vector field, we get the streamlines of a flow, called integral curves :)"
   ]
  },
  {
   "cell_type": "markdown",
   "metadata": {},
   "source": [
    "# Exercise 1a\n",
    "\n",
    "\\begin{align} \n",
    "&\\text{If } X^\\mu=(y,-x) \\text{then we have} X = yx\\hat{\\textbf{x}}-yx\\hat{\\textbf{y}}\\\\\n",
    "&\\text{Thus we have}\\quad X^\\mu(t) = \\frac{dx^\\mu(t)}{dt}\\\\\n",
    "&\\text{Substituting yields}\\quad X = \\frac{\\partial y}{\\partial t}\\hat{x}-\\frac{\\partial x}{\\partial t}\\hat{y} = \\hat{x}-\\hat{y}\n",
    "\\end{align}   "
   ]
  },
  {
   "cell_type": "markdown",
   "metadata": {},
   "source": [
    "# Exercise 1b\n",
    "\n",
    "\\begin{align} \n",
    "&\\text{If } X^\\mu=(x-y,x+y) \\text{ then we can choose the parameterization }\\quad y(t)=x(t)=t \\\\\n",
    "&\\text{Thus we have}\\quad X^\\mu(t) = \\frac{dx^\\mu(t)}{dt}\\\\\n",
    "&\\text{Substituting yields}\\quad X = [\\frac{\\partial x}{\\partial t}-\\frac{\\partial y}{\\partial t}]\\hat{x}+[\\frac{\\partial x}{\\partial t}+\\frac{\\partial y}{\\partial t}]\\hat{y} = 2\\hat{y}\n",
    "\\end{align}   "
   ]
  },
  {
   "cell_type": "code",
   "execution_count": null,
   "metadata": {},
   "outputs": [],
   "source": []
  }
 ],
 "metadata": {
  "language_info": {
   "name": "python"
  }
 },
 "nbformat": 4,
 "nbformat_minor": 2
}
