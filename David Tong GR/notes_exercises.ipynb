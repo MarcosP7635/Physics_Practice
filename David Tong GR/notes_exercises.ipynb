{
 "cells": [
  {
   "cell_type": "markdown",
   "metadata": {},
   "source": [
    "# Differentiating on a manifold \n",
    "By definition, these manifolds locally look like $\\mathbb{R}$ and are smooth. Thus we have\n",
    "\\begin{align}\n",
    "\\frac{\\partial f}{\\partial x^\\mu}\\mid_p = \\frac{\\partial (f\\circ\\phi^{-1})}{\\partial x^\\mu}\\mid_{\\phi(p)}\n",
    "\\end{align}\n",
    "The set of all smooth functions is $C^\\infty(M)$. The tangent vector $X_p:C^\\infty(M)\\to\\mathbb{R}$ differentiates a function at a point $p$. $X_p$ is linear over addition, obeys the product rule, and is 0 for a constant function. The velocity of a particle is an example of a tangent vector. Recall $\\mu$ is an index, and we define\n",
    "\\begin{align}\n",
    "\\partial_\\mu|_p \\equiv \\frac{\\partial}{\\partial x^\\mu}|_p\n",
    "\\end{align}\n",
    "and that's also a tangent vector and doesn't depend on the choice of coordinates! :) "
   ]
  },
  {
   "cell_type": "markdown",
   "metadata": {},
   "source": [
    "The set of all tangent vectors is a tangent space $T_p(M)$ and has the basis vectors $\\partial_\\mu|_p$\n",
    "\n",
    "Recall that we use Einstein summation notation so if we have $F=f\\circ\\phi^{-1}:U\\to\\mathbb{R}$ and $\\phi=(x^1,x^2,...,x^n)$ then\n",
    "\\begin{align}\n",
    "F(x) = F(x^\\mu) + (x^\\mu-x^\\mu(p))F_\\mu(x(p))\n",
    "\\end{align}\n",
    "has $n$ functions $F_\\mu(x)$. "
   ]
  },
  {
   "cell_type": "markdown",
   "metadata": {},
   "source": [
    "\\begin{align}\n",
    "&\\text{We define}\\quad X^\\mu_p\\equiv X_p(x^\\mu)\\quad\\text{and have}\\quad\n",
    "X_p=X^\\mu\\partial_\\mu|_p\n",
    "\\end{align}\n",
    "The proof is about a page but the first step is above :P"
   ]
  },
  {
   "cell_type": "markdown",
   "metadata": {},
   "source": []
  },
  {
   "cell_type": "code",
   "execution_count": null,
   "metadata": {},
   "outputs": [],
   "source": []
  }
 ],
 "metadata": {
  "language_info": {
   "name": "python"
  }
 },
 "nbformat": 4,
 "nbformat_minor": 2
}
