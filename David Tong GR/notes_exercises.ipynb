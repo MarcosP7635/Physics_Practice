{
 "cells": [
  {
   "cell_type": "markdown",
   "metadata": {},
   "source": [
    "# Differentiating on a manifold \n",
    "By definition, these manifolds locally look like $\\mathbb{R}$ and are smooth. Thus we have\n",
    "\\begin{align}\n",
    "\\frac{\\partial f}{\\partial x^\\mu}\\mid_p = \\frac{\\partial (f\\circ\\phi^{-1})}{\\partial x^\\mu}\\mid_{\\phi(p)}\n",
    "\\end{align}\n",
    "The set of all smooth functions is $C^\\infty(M)$. The tangent vector $X_p:C^\\infty(M)\\to\\mathbb{R}$ differentiates a function at a point $p$. $X_p$ is linear over addition, obeys the product rule, and is 0 for a constant function. The velocity of a particle is an example of a tangent vector. Recall $\\mu$ is an index, and we define\n",
    "\\begin{align}\n",
    "\\partial_\\mu|_p \\equiv \\frac{\\partial}{\\partial x^\\mu}|_p\n",
    "\\end{align}\n",
    "and that's also a tangent vector and doesn't depend on the choice of coordinates! :) "
   ]
  },
  {
   "cell_type": "markdown",
   "metadata": {},
   "source": [
    "The set of all tangent vectors is a tangent space $T_p(M)$ and has the basis vectors $\\partial_\\mu|_p$\n",
    "\n",
    "Recall that we use Einstein summation notation so if we have $F=f\\circ\\phi^{-1}:U\\to\\mathbb{R}$ and $\\phi=(x^1,x^2,...,x^n)$ then\n",
    "\\begin{align}\n",
    "F(x) = F(x^\\mu) + (x^\\mu-x^\\mu(p))F_\\mu(x(p))\n",
    "\\end{align}\n",
    "has $n$ functions $F_\\mu(x)$. "
   ]
  },
  {
   "cell_type": "markdown",
   "metadata": {},
   "source": [
    "\\begin{align}\n",
    "&\\text{We define}\\quad X^\\mu_p\\equiv X_p(x^\\mu)\\quad\\text{and have}\\quad\n",
    "X_p=X^\\mu\\partial_\\mu|_p\n",
    "\\end{align}\n",
    "The proof is about a page but the first step is above :P"
   ]
  },
  {
   "cell_type": "markdown",
   "metadata": {},
   "source": [
    "## Chain Rule Works :)\n",
    "\n",
    "Consider some other chart $\\tilde{\\phi}$ with coordinates $\\tilde{x}^\\nu$. Since $X_p$ is a vector we have\n",
    "\\begin{align}\n",
    "& X_p = X^\\mu \\frac{\\partial}{\\partial x^\\mu}|_p = \\tilde{X}^\\mu \\frac{\\partial}{\\partial \\tilde{x}^\\mu}|_p \\\\\n",
    "&\\text{Now take the tangent vector of some function $f$ and define}\\nonumber\\\\\n",
    "&\\text{Now with chain rule :) }\\quad X_p(f) = X^\\mu\\frac{\\partial}{\\partial x^\\mu}|_p =  X^\\mu\\frac{\\partial\\tilde{x}^\\nu}{\\partial \\tilde{x}^\\nu}|_{\\phi(p)}\\frac{\\partial f}{\\partial \\tilde{x}^\\nu}|_p \\\\\n",
    "&\\text{We define}\\quad\\tilde{\\partial}_\\nu\\equiv\\frac{\\partial}{\\partial\\tilde{x}^\\nu}\\quad\\therefore\\quad X_p(f) = X^\\mu\\partial_\\mu f|_p =  X^\\mu\\partial_\\mu \\tilde{x}^\\nu|_{\\phi(p)}\\tilde{\\partial}_\\nu f |_p\\\\\n",
    "\\end{align}\n",
    "Then we have\n",
    "\\begin{align}\n",
    "X_p = X^\\mu\n",
    "\\end{align}"
   ]
  },
  {
   "cell_type": "markdown",
   "metadata": {},
   "source": []
  },
  {
   "cell_type": "code",
   "execution_count": null,
   "metadata": {},
   "outputs": [],
   "source": []
  }
 ],
 "metadata": {
  "language_info": {
   "name": "python"
  }
 },
 "nbformat": 4,
 "nbformat_minor": 2
}
