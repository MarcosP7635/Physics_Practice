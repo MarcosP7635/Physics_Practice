{
 "cells": [
  {
   "cell_type": "code",
   "execution_count": null,
   "metadata": {},
   "outputs": [],
   "source": [
    "using "
   ]
  },
  {
   "cell_type": "markdown",
   "metadata": {},
   "source": [
    "# 1"
   ]
  },
  {
   "cell_type": "markdown",
   "metadata": {},
   "source": [
    "Draw two geodesics on a cylinder that at some point are parallel to each other with a separation $ξ_0$. Make sure each geodesic at this point is also parallel to the height of the cylinder. Notice that as one walks along the geodesic and varies s, the separation between these geodesics is constant. Thus the second derivative geodesic separation, and thus curvature are both 0. The result is the same for two geodesics each perpendicular to the first pair."
   ]
  },
  {
   "cell_type": "markdown",
   "metadata": {},
   "source": [
    "The principle radius of curvature for a geodesic parallel to the bases of the cylinder is  $r$, simply the radius of the cylinder. The radius of curvature for geodesics perpendicular to the bases of the cylinder is $r_h=\\lim_{x\\to\\infty}x$. So we have for the Gaussian curvature $$R=\\frac {1}{r_hr}=\\frac{1}{r\\lim_{x\\to\\infty}x}=0$$"
   ]
  },
  {
   "cell_type": "markdown",
   "metadata": {},
   "source": [
    "# 2\n",
    "\n",
    "Recall that $a_\\text{Newtonian tide} = Gm/r^3$. Now in cgs units, we have"
   ]
  },
  {
   "cell_type": "code",
   "execution_count": null,
   "metadata": {},
   "outputs": [],
   "source": [
    "m_moon, r_moon = 7.35 * 10**25, 3.84 * 10**10\n",
    "m_sun, r_moon = 1.989 * 10**33, 1.496 * 10**13 "
   ]
  }
 ],
 "metadata": {
  "language_info": {
   "name": "python"
  }
 },
 "nbformat": 4,
 "nbformat_minor": 2
}
