{
 "cells": [
  {
   "cell_type": "markdown",
   "metadata": {},
   "source": [
    "Draw two geodesics on a cylinder that at some point are parallel to each other with a separation $ξ_0$. Make sure each geodesic at this point is also parallel to the height of the cylinder. Notice that as one walks along the geodesic and varies s, the separation between these geodesics is constant. Thus the second derivative geodesic separation, and thus curvature are both 0. The result is the same for two geodesics each perpendicular to the first pair."
   ]
  },
  {
   "cell_type": "markdown",
   "metadata": {},
   "source": [
    "The principle radius of curvature for a geodesic parallel to the bases of the cylinder is $r_h=\\lim_{x\\to\\infty}x$ and the radius of curvature for geodesics perpendicular to the bases of the cylinder is $r$, simply the radius of the cylinder. So we have for the Gaussian curvature $$R=\\frac {1}{r_hr}=\\frac{1}{r\\lim_{x\\to\\infty}x}=0$$"
   ]
  },
  {
   "cell_type": "markdown",
   "metadata": {},
   "source": []
  },
  {
   "cell_type": "code",
   "execution_count": null,
   "metadata": {},
   "outputs": [],
   "source": []
  }
 ],
 "metadata": {
  "language_info": {
   "name": "python"
  }
 },
 "nbformat": 4,
 "nbformat_minor": 2
}
