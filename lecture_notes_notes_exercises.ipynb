{
 "cells": [
  {
   "cell_type": "markdown",
   "metadata": {},
   "source": [
    "$\\delta^j_k$ is the kronecker delta and NOT the variational derivative. It is 1 iff $j=k$ and 0 otherwise. It's very useful to convert all of one letter into another. Consider "
   ]
  },
  {
   "cell_type": "markdown",
   "metadata": {},
   "source": [
    "June explaining Lorentz transforms in a very fancy way. For some whole number $n$, GL($n$) is the group of the set of $n\\times n$ invertible square matrices together with matrix multiplication as the operation. In other words, $O(n)=\\{ M;MM^T=I\\}.$ However for a vector space $V$ we have GL($V$) = ${f;V\\to V;\\text{invertible}}.$ For instance, GL $(\\mathbb{R}^4)=\\{ M;\\text{det}\\neq0 \\}.$ We also have $O(3,1)=\\{ \\eta_{\\mu\\nu};M\\eta_{\\mu\\nu}M^T=\\eta_{\\mu\\nu} \\}$ where $\\eta_{\\mu\\nu}$ is the Minkowski spacetime metric, we have We also have  \n",
    "\\begin{align}\n",
    "O(2) = { \\mathbb{R}\\in\\text{GL}(\\mathbb{R}^2) \n",
    "}\n",
    "\\end{align}"
   ]
  },
  {
   "cell_type": "code",
   "execution_count": null,
   "metadata": {},
   "outputs": [],
   "source": []
  }
 ],
 "metadata": {
  "language_info": {
   "name": "python"
  }
 },
 "nbformat": 4,
 "nbformat_minor": 2
}
