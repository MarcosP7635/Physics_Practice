{
 "cells": [
  {
   "cell_type": "markdown",
   "metadata": {},
   "source": [
    "Consider a spherical shell with a point charge at its center. Where $\\rho$ is the charge per volume in the sphere, we have from Coulomb's law\n",
    "\\begin{equation}\n",
    "\\begin{split}\n",
    "E = \\frac{q}{4\\pi r^2 \\epsilon_0}\\\\\n",
    "E_{flux} = \\frac{q}{\\epsilon_0}\\\\\n",
    "\\frac{E_{flux}}{V_{sphere}} = \\frac{\\rho}{\\epsilon_0}\n",
    "\\end{split}\n",
    "\\end{equation}\n",
    "Since this does not depend on the radius of the sphere, we have from the definition of divergence\n",
    "\\begin{equation}\n",
    "\\begin{split}\n",
    "\\lim_{V_{sphere}\\to0}\\frac{E_{flux}}{V_{sphere}} = \\frac{\\rho}{\\epsilon_0}\\\\\n",
    "\\nabla\\cdot E = \\frac{\\rho}{\\epsilon_0}\\\\\n",
    "\\end{split}\n",
    "\\end{equation}\n",
    "Now if we think of divergence as the flux from some region in space per the volume of that space, and extended this thought process to infinitesimal volumes of space, one would expect the divergence in a specific direction, $x$ to be proportional to $\\frac{\\partial E}{\\partial x}$. Summing these partial derivatives for three independent vectors in 3D space gives \n",
    "\\begin{equation}\n",
    "\\begin{split}\n",
    "\\nabla \\cdot E = \\frac{\\partial E_x}{\\partial x} + \\frac{\\partial E_y}{\\partial y} + \\frac{\\partial E_z}{\\partial z}\\\\\n",
    "\\frac{\\rho}{\\epsilon_0} = \\frac{\\partial E_x}{\\partial x} + \\frac{\\partial E_y}{\\partial y} + \\frac{\\partial E_z}{\\partial z}\\\\\n",
    "\\end{split}\n",
    "\\end{equation}\n",
    "\n",
    "\n"
   ]
  },
  {
   "cell_type": "markdown",
   "metadata": {},
   "source": [
    "Now let us consider the divergence in cylindrical coordinates. We have for the definition of polar coordinates in terms of cartesian coordinates\n",
    "\\begin{equation}\n",
    "\\begin{split}\n",
    "r = \\sqrt{x^2+y^2}\\\\\n",
    "\\theta = \\arctan(\\frac{y}{x})\\\\\n",
    "z = z\\\\\n",
    "\\end{split}\n",
    "\\end{equation}\n",
    "Since $z$ is the same in both cartesian and cylindrical coordinates, the problem reduces the finding the divergence in polar coordinates. "
   ]
  },
  {
   "cell_type": "code",
   "execution_count": null,
   "metadata": {},
   "outputs": [],
   "source": []
  }
 ],
 "metadata": {
  "kernelspec": {
   "display_name": "Python 3.9.10 64-bit",
   "language": "python",
   "name": "python3"
  },
  "language_info": {
   "name": "python",
   "version": "3.9.10"
  },
  "orig_nbformat": 4,
  "vscode": {
   "interpreter": {
    "hash": "274785dbb282d05f4e0ae2ca70ac66f1fa0484127cd60ef9f4ac2dd997977034"
   }
  }
 },
 "nbformat": 4,
 "nbformat_minor": 2
}
